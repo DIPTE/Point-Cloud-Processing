{
  "nbformat": 4,
  "nbformat_minor": 0,
  "metadata": {
    "colab": {
      "name": "Untitled0.ipynb",
      "provenance": [],
      "collapsed_sections": [],
      "mount_file_id": "1iQIAsLvq8yrskxE0AqPBY8BcmOX2qEEv",
      "authorship_tag": "ABX9TyNdJY95bykd6/MftXsOIZr2",
      "include_colab_link": true
    },
    "kernelspec": {
      "name": "python3",
      "display_name": "Python 3"
    },
    "accelerator": "GPU"
  },
  "cells": [
    {
      "cell_type": "markdown",
      "metadata": {
        "id": "view-in-github",
        "colab_type": "text"
      },
      "source": [
        "<a href=\"https://colab.research.google.com/github/DIPTE/Point-Cloud-Processing/blob/master/colab.ipynb\" target=\"_parent\"><img src=\"https://colab.research.google.com/assets/colab-badge.svg\" alt=\"Open In Colab\"/></a>"
      ]
    },
    {
      "cell_type": "code",
      "metadata": {
        "id": "HQEyNdIZaFkh",
        "colab_type": "code",
        "colab": {}
      },
      "source": [
        "from google.colab import drive\n",
        "drive.mount('/content/drive')#挂载云端硬盘"
      ],
      "execution_count": 0,
      "outputs": []
    },
    {
      "cell_type": "code",
      "metadata": {
        "id": "GijYTyabeILO",
        "colab_type": "code",
        "colab": {}
      },
      "source": [
        "!git clone https://github.com/DIPTE/Point-Cloud-Processing.git"
      ],
      "execution_count": 0,
      "outputs": []
    },
    {
      "cell_type": "code",
      "metadata": {
        "id": "9aJnmE2chLvk",
        "colab_type": "code",
        "colab": {}
      },
      "source": [
        "import os\n",
        "os.chdir('/content/drive/My Drive/Untitled Folder/Point-Cloud-Processing')#切换工作目录"
      ],
      "execution_count": 0,
      "outputs": []
    },
    {
      "cell_type": "code",
      "metadata": {
        "id": "K_kgCZ27lMLf",
        "colab_type": "code",
        "colab": {}
      },
      "source": [
        "!ls#查看工作目录\n",
        "!nvcc -V\n",
        "!apt install lshw -y\n",
        "!lshw -C display"
      ],
      "execution_count": 0,
      "outputs": []
    },
    {
      "cell_type": "code",
      "metadata": {
        "id": "k8kgzySG9RL4",
        "colab_type": "code",
        "colab": {}
      },
      "source": [
        "!wget https://shapenet.cs.stanford.edu/media/modelnet40_normal_resampled.zip && unzip modelnet40_normal_resampled.zip && rm modelnet40_normal_resampled.zip#下载数据集\n"
      ],
      "execution_count": 0,
      "outputs": []
    },
    {
      "cell_type": "code",
      "metadata": {
        "id": "ZwSMEB3SgGU5",
        "colab_type": "code",
        "colab": {}
      },
      "source": [
        "!pip install -e .\n",
        "!pip install tensorboardX\n",
        "!cd utils/ && python train_classification_PointNet_TXT.py"
      ],
      "execution_count": 0,
      "outputs": []
    },
    {
      "cell_type": "code",
      "metadata": {
        "id": "km4O3WsalhIe",
        "colab_type": "code",
        "colab": {}
      },
      "source": [
        "!wget https://bin.equinox.io/c/4VmDzA7iaHb/ngrok-stable-linux-amd64.zip\n",
        "!unzip ngrok-stable-linux-amd64.zip"
      ],
      "execution_count": 0,
      "outputs": []
    },
    {
      "cell_type": "code",
      "metadata": {
        "id": "kt0QXBcCkq1y",
        "colab_type": "code",
        "colab": {}
      },
      "source": [
        "!tensorboard --logdir '/content/drive/My Drive/Untitled Folder/Point-Cloud-Processing/utils/logs/' --host 0.0.0.0 --port 6006\n"
      ],
      "execution_count": 0,
      "outputs": []
    },
    {
      "cell_type": "code",
      "metadata": {
        "id": "u5GxtehSpP5v",
        "colab_type": "code",
        "colab": {}
      },
      "source": [
        "get_ipython().system_raw('./ngrok http 6006 &')\n",
        "! curl -s http://localhost:4040/api/tunnels | python3 -c \\\n",
        "\"import sys, json; print(json.load(sys.stdin)['tunnels'][0]['public_url'])\""
      ],
      "execution_count": 0,
      "outputs": []
    },
    {
      "cell_type": "code",
      "metadata": {
        "id": "_AYOuN9TevqT",
        "colab_type": "code",
        "colab": {}
      },
      "source": [
        "!ls"
      ],
      "execution_count": 0,
      "outputs": []
    },
    {
      "cell_type": "code",
      "metadata": {
        "id": "Y3AGy1Cpv3EY",
        "colab_type": "code",
        "colab": {}
      },
      "source": [
        "!git clone https://github.com/DIPTE/Point-Cloud-Processing.git\n",
        "!cd /content/Point-Cloud-Processing/ && wget https://shapenet.cs.stanford.edu/media/modelnet40_normal_resampled.zip && unzip modelnet40_normal_resampled.zip && rm modelnet40_normal_resampled.zip\"#下载数据集   "
      ],
      "execution_count": 0,
      "outputs": []
    },
    {
      "cell_type": "code",
      "metadata": {
        "id": "3J334R4uio9A",
        "colab_type": "code",
        "colab": {}
      },
      "source": [
        "!cd /content/Point-Cloud-Processing/pointnet/ && python dataset_TXT.py"
      ],
      "execution_count": 0,
      "outputs": []
    },
    {
      "cell_type": "code",
      "metadata": {
        "id": "hNJIAYxpi-h-",
        "colab_type": "code",
        "colab": {}
      },
      "source": [
        "!cd /content/Point-Cloud-Processing/ && pip install -e ."
      ],
      "execution_count": 0,
      "outputs": []
    },
    {
      "cell_type": "code",
      "metadata": {
        "id": "SUAeeIoIjZ59",
        "colab_type": "code",
        "colab": {}
      },
      "source": [
        "!pip install tensorboardX"
      ],
      "execution_count": 0,
      "outputs": []
    },
    {
      "cell_type": "code",
      "metadata": {
        "id": "vSWSTYBBmmar",
        "colab_type": "code",
        "colab": {}
      },
      "source": [
        "!cd /content/Point-Cloud-Processing/utils/ && python train_classification_VoxelFeatureEncoding_TXT.py"
      ],
      "execution_count": 0,
      "outputs": []
    },
    {
      "cell_type": "code",
      "metadata": {
        "id": "vmADkr84i6_k",
        "colab_type": "code",
        "colab": {}
      },
      "source": [
        "!cd /content/Point-Cloud-Processing/utils/ && python train_classification_PointNet_TXT.py"
      ],
      "execution_count": 0,
      "outputs": []
    },
    {
      "cell_type": "code",
      "metadata": {
        "id": "h4bEQtN2cdeV",
        "colab_type": "code",
        "colab": {}
      },
      "source": [
        "!cp -r '/content/Point-Cloud-Processing/utils/' '/content/drive/My Drive/Untitled Folder/'"
      ],
      "execution_count": 0,
      "outputs": []
    },
    {
      "cell_type": "code",
      "metadata": {
        "id": "4v3wyzishMXi",
        "colab_type": "code",
        "colab": {}
      },
      "source": [
        "!rm -rf /content/Point-Cloud-Processing/modelnet40_normal_resampled_txt"
      ],
      "execution_count": 0,
      "outputs": []
    }
  ]
}